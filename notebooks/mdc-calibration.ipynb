{
 "cells": [
  {
   "cell_type": "code",
   "execution_count": 1,
   "id": "4f4338c1",
   "metadata": {},
   "outputs": [],
   "source": [
    "import numpy as np\n",
    "import pytorch_lightning as pl\n",
    "import json\n",
    "\n",
    "from src.models.high_level_model import HighLevelModel\n",
    "from src.calibration.calibration import calibration\n",
    "from src.data.multi_output_dataset import MultiOutputDataModule\n",
    "from src.models.model_utils import convert_multitask_preds"
   ]
  },
  {
   "cell_type": "code",
   "execution_count": 2,
   "id": "cc8d29da",
   "metadata": {},
   "outputs": [],
   "source": [
    "MDC_COLOR = 12\n",
    "MDC_TYPE = 11\n",
    "MDC_TASK_NUM_CLASSES = [MDC_COLOR, MDC_TYPE]\n",
    "root_dir = \"data\""
   ]
  },
  {
   "cell_type": "code",
   "execution_count": 3,
   "id": "2e0ce9a1",
   "metadata": {},
   "outputs": [],
   "source": [
    "model = HighLevelModel.load_from_checkpoint(\n",
    "    \"models/mdc-high-level-model.ckpt\",\n",
    "    map_location=\"cpu\",\n",
    "    task_num_classes=MDC_TASK_NUM_CLASSES,\n",
    ")\n",
    "datamodule = MultiOutputDataModule(\n",
    "    root_dir=root_dir,\n",
    "    task_num_classes=MDC_TASK_NUM_CLASSES,\n",
    "    batch_size=64,\n",
    "    num_workers=8,\n",
    ")\n",
    "datamodule.setup()"
   ]
  },
  {
   "cell_type": "code",
   "execution_count": 4,
   "id": "a4559f51",
   "metadata": {},
   "outputs": [],
   "source": [
    "#model.eval()\n",
    "#trainer = pl.Trainer(accelerator=\"gpu\")\n",
    "\n",
    "#calib_preds = trainer.predict(model, dataloaders=datamodule.calib_dataloader())\n",
    "#calib_preds = convert_multitask_preds(calib_preds)\n",
    "calib_preds = np.load(\"./models/mdc-high-model-calibpreds.npz\")\n",
    "calib_preds = [calib_preds[key] for key in calib_preds.files]\n",
    "true_labels = np.stack([labels for _, labels in datamodule.datasets[\"calib\"]], axis=1)"
   ]
  },
  {
   "cell_type": "code",
   "execution_count": 5,
   "id": "80cda806",
   "metadata": {},
   "outputs": [
    {
     "name": "stdout",
     "output_type": "stream",
     "text": [
      "[array([[8.22556019e-01, 7.46676000e-04, 2.59488697e-08, ...,\n",
      "        9.59193130e-07, 1.69652703e-09, 5.70246117e-09],\n",
      "       [9.56030369e-01, 3.25049344e-03, 3.80841941e-10, ...,\n",
      "        1.97434780e-09, 7.52362200e-11, 3.62321534e-10],\n",
      "       [6.41980410e-01, 1.85987493e-03, 1.14738071e-07, ...,\n",
      "        5.28904594e-11, 2.08485377e-12, 4.00961708e-09],\n",
      "       ...,\n",
      "       [4.47997361e-10, 3.55223750e-12, 1.34482370e-05, ...,\n",
      "        8.44685495e-01, 5.72019987e-10, 2.66193578e-11],\n",
      "       [1.13884257e-13, 2.75420242e-10, 1.44258636e-04, ...,\n",
      "        9.21593666e-01, 7.46730677e-09, 1.47014049e-07],\n",
      "       [4.54582249e-12, 2.49659308e-07, 3.27027960e-10, ...,\n",
      "        9.85211372e-01, 1.05621805e-11, 7.89443566e-10]],\n",
      "      shape=(4812, 12), dtype=float32), array([[2.63850063e-01, 2.54477002e-03, 1.09256616e-05, ...,\n",
      "        2.21990533e-02, 1.14108017e-03, 3.97044687e-06],\n",
      "       [8.55591178e-01, 1.84196346e-02, 2.56511257e-08, ...,\n",
      "        6.33316636e-02, 1.92780746e-03, 6.46899112e-09],\n",
      "       [9.72789586e-01, 1.41711771e-05, 3.53192291e-07, ...,\n",
      "        9.90636472e-05, 6.06079027e-03, 2.83983126e-09],\n",
      "       ...,\n",
      "       [3.62743974e-01, 2.43403157e-03, 6.17103924e-10, ...,\n",
      "        5.99908037e-03, 6.01064026e-01, 2.24600409e-08],\n",
      "       [4.88403440e-02, 5.57948638e-08, 7.94313779e-13, ...,\n",
      "        8.91863081e-08, 9.51059461e-01, 1.02923244e-13],\n",
      "       [3.19997445e-02, 3.67318047e-03, 2.72589830e-07, ...,\n",
      "        1.09119108e-03, 8.34924042e-01, 5.16123634e-07]],\n",
      "      shape=(4812, 11), dtype=float32)]\n"
     ]
    }
   ],
   "source": [
    "print(calib_preds)\n",
    "#np.savez(\"./models/mdc-high-model-calibpreds\", *calib_preds)"
   ]
  },
  {
   "cell_type": "code",
   "execution_count": 6,
   "id": "d579cee5",
   "metadata": {},
   "outputs": [],
   "source": [
    "q_hats = calibration(\n",
    "    calib_preds,\n",
    "    true_labels,\n",
    "    high_level=isinstance(model, HighLevelModel),\n",
    ")"
   ]
  },
  {
   "cell_type": "code",
   "execution_count": 7,
   "id": "2ac093e9",
   "metadata": {},
   "outputs": [],
   "source": [
    "def convert_numpy_to_native(obj):\n",
    "    if isinstance(obj, np.ndarray):\n",
    "        return obj.tolist()\n",
    "    elif isinstance(obj, (np.integer, np.floating)):\n",
    "        return obj.item()\n",
    "    elif isinstance(obj, dict):\n",
    "        return {k: convert_numpy_to_native(v) for k, v in obj.items()}\n",
    "    elif isinstance(obj, list):\n",
    "        return [convert_numpy_to_native(x) for x in obj]\n",
    "    else:\n",
    "        return obj\n",
    "\n",
    "\n",
    "with open(f\"models/mdc-high-level-calibration.json\", \"w\") as f:\n",
    "    json.dump(convert_numpy_to_native(q_hats), f, indent=2)"
   ]
  }
 ],
 "metadata": {
  "kernelspec": {
   "display_name": "venv",
   "language": "python",
   "name": "python3"
  },
  "language_info": {
   "codemirror_mode": {
    "name": "ipython",
    "version": 3
   },
   "file_extension": ".py",
   "mimetype": "text/x-python",
   "name": "python",
   "nbconvert_exporter": "python",
   "pygments_lexer": "ipython3",
   "version": "3.12.3"
  }
 },
 "nbformat": 4,
 "nbformat_minor": 5
}
