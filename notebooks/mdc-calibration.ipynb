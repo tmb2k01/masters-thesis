{
 "cells": [
  {
   "cell_type": "code",
   "execution_count": 7,
   "id": "4f4338c1",
   "metadata": {},
   "outputs": [],
   "source": [
    "import numpy as np\n",
    "import pytorch_lightning as pl\n",
    "import json\n",
    "\n",
    "from src.models.high_level_model import HighLevelModel\n",
    "from src.calibration.calibration import calibration\n",
    "from src.data.multi_output_dataset import MultiOutputDataModule\n",
    "from src.models.model_utils import convert_multitask_preds"
   ]
  },
  {
   "cell_type": "code",
   "execution_count": 2,
   "id": "cc8d29da",
   "metadata": {},
   "outputs": [],
   "source": [
    "MDC_COLOR = 12\n",
    "MDC_TYPE = 11\n",
    "MDC_TASK_NUM_CLASSES = [MDC_COLOR, MDC_TYPE]\n",
    "root_dir = \"data\""
   ]
  },
  {
   "cell_type": "code",
   "execution_count": 3,
   "id": "2e0ce9a1",
   "metadata": {},
   "outputs": [],
   "source": [
    "model = HighLevelModel.load_from_checkpoint(\n",
    "    \"models/mdc-high-level-model.ckpt\",\n",
    "    map_location=\"cpu\",\n",
    "    task_num_classes=MDC_TASK_NUM_CLASSES,\n",
    ")\n",
    "datamodule = MultiOutputDataModule(\n",
    "    root_dir=root_dir,\n",
    "    task_num_classes=MDC_TASK_NUM_CLASSES,\n",
    "    batch_size=64,\n",
    "    num_workers=8,\n",
    ")\n",
    "datamodule.setup()"
   ]
  },
  {
   "cell_type": "code",
   "execution_count": 4,
   "id": "a4559f51",
   "metadata": {},
   "outputs": [
    {
     "name": "stderr",
     "output_type": "stream",
     "text": [
      "You are using the plain ModelCheckpoint callback. Consider using LitModelCheckpoint which with seamless uploading to Model registry.\n",
      "GPU available: True (cuda), used: True\n",
      "TPU available: False, using: 0 TPU cores\n",
      "HPU available: False, using: 0 HPUs\n",
      "/home/tmb2k01/masters-thesis/venv/lib/python3.11/site-packages/pytorch_lightning/trainer/connectors/logger_connector/logger_connector.py:76: Starting from v1.9.0, `tensorboardX` has been removed as a dependency of the `pytorch_lightning` package, due to potential conflicts with other packages in the ML ecosystem. For this reason, `logger=True` will use `CSVLogger` as the default logger, unless the `tensorboard` or `tensorboardX` packages are found. Please `pip install lightning[extra]` or one of them to enable TensorBoard support by default\n",
      "You are using a CUDA device ('NVIDIA GeForce RTX 4060 Ti') that has Tensor Cores. To properly utilize them, you should set `torch.set_float32_matmul_precision('medium' | 'high')` which will trade-off precision for performance. For more details, read https://pytorch.org/docs/stable/generated/torch.set_float32_matmul_precision.html#torch.set_float32_matmul_precision\n",
      "LOCAL_RANK: 0 - CUDA_VISIBLE_DEVICES: [0]\n"
     ]
    },
    {
     "name": "stdout",
     "output_type": "stream",
     "text": [
      "Predicting DataLoader 0: 100%|██████████| 76/76 [00:12<00:00,  6.33it/s]\n"
     ]
    }
   ],
   "source": [
    "model.eval()\n",
    "trainer = pl.Trainer(accelerator=\"gpu\")\n",
    "\n",
    "calib_preds = trainer.predict(model, dataloaders=datamodule.calib_dataloader())\n",
    "calib_preds = convert_multitask_preds(calib_preds)\n",
    "true_labels = np.stack([labels for _, labels in datamodule.datasets[\"calib\"]], axis=1)"
   ]
  },
  {
   "cell_type": "code",
   "execution_count": 5,
   "id": "d579cee5",
   "metadata": {},
   "outputs": [
    {
     "name": "stderr",
     "output_type": "stream",
     "text": [
      "/home/tmb2k01/masters-thesis/src/calibration/calibration_utils.py:174: RuntimeWarning: divide by zero encountered in divide\n",
      "  val = np.ceil((n_valid + 1) * (1 - alpha)) / n_valid\n",
      "/home/tmb2k01/masters-thesis/src/calibration/calibration_utils.py:174: RuntimeWarning: divide by zero encountered in divide\n",
      "  val = np.ceil((n_valid + 1) * (1 - alpha)) / n_valid\n",
      "/home/tmb2k01/masters-thesis/src/calibration/calibration_utils.py:174: RuntimeWarning: divide by zero encountered in divide\n",
      "  val = np.ceil((n_valid + 1) * (1 - alpha)) / n_valid\n"
     ]
    }
   ],
   "source": [
    "q_hats = calibration(\n",
    "    calib_preds,\n",
    "    true_labels,\n",
    "    high_level=isinstance(model, HighLevelModel),\n",
    ")"
   ]
  },
  {
   "cell_type": "code",
   "execution_count": 8,
   "id": "2ac093e9",
   "metadata": {},
   "outputs": [],
   "source": [
    "def convert_numpy_to_native(obj):\n",
    "    if isinstance(obj, np.ndarray):\n",
    "        return obj.tolist()\n",
    "    elif isinstance(obj, (np.integer, np.floating)):\n",
    "        return obj.item()\n",
    "    elif isinstance(obj, dict):\n",
    "        return {k: convert_numpy_to_native(v) for k, v in obj.items()}\n",
    "    elif isinstance(obj, list):\n",
    "        return [convert_numpy_to_native(x) for x in obj]\n",
    "    else:\n",
    "        return obj\n",
    "\n",
    "\n",
    "with open(f\"models/mdc-high-level-calibration.json\", \"w\") as f:\n",
    "    json.dump(convert_numpy_to_native(q_hats), f, indent=2)"
   ]
  }
 ],
 "metadata": {
  "kernelspec": {
   "display_name": "venv",
   "language": "python",
   "name": "python3"
  },
  "language_info": {
   "codemirror_mode": {
    "name": "ipython",
    "version": 3
   },
   "file_extension": ".py",
   "mimetype": "text/x-python",
   "name": "python",
   "nbconvert_exporter": "python",
   "pygments_lexer": "ipython3",
   "version": "3.11.12"
  }
 },
 "nbformat": 4,
 "nbformat_minor": 5
}
