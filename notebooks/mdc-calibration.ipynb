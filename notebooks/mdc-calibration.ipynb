{
 "cells": [
  {
   "cell_type": "code",
   "execution_count": 1,
   "id": "4f4338c1",
   "metadata": {},
   "outputs": [],
   "source": [
    "import numpy as np\n",
    "import pytorch_lightning as pl\n",
    "import json\n",
    "\n",
    "from src.models.high_level_model import HighLevelModel\n",
    "from src.calibration.calibration import calibration\n",
    "from src.data.multi_output_dataset import MultiOutputDataModule\n",
    "from src.models.model_utils import convert_multitask_preds"
   ]
  },
  {
   "cell_type": "code",
   "execution_count": 2,
   "id": "cc8d29da",
   "metadata": {},
   "outputs": [],
   "source": [
    "MDC_COLOR = 12\n",
    "MDC_TYPE = 11\n",
    "MDC_TASK_NUM_CLASSES = [MDC_COLOR, MDC_TYPE]\n",
    "root_dir = \"data\""
   ]
  },
  {
   "cell_type": "code",
   "execution_count": 3,
   "id": "2e0ce9a1",
   "metadata": {},
   "outputs": [],
   "source": [
    "model = HighLevelModel.load_from_checkpoint(\n",
    "    \"models/mdc-high-level-model.ckpt\",\n",
    "    map_location=\"cpu\",\n",
    "    task_num_classes=MDC_TASK_NUM_CLASSES,\n",
    ")\n",
    "datamodule = MultiOutputDataModule(\n",
    "    root_dir=root_dir,\n",
    "    task_num_classes=MDC_TASK_NUM_CLASSES,\n",
    "    batch_size=64,\n",
    "    num_workers=8,\n",
    ")\n",
    "datamodule.setup()"
   ]
  },
  {
   "cell_type": "code",
   "execution_count": 4,
   "id": "b41b2dba",
   "metadata": {},
   "outputs": [],
   "source": [
    "load_preds = True\n",
    "\n",
    "if load_preds:\n",
    "    calib_preds = np.load(\"./models/mdc-high-model-calibpreds.npz\")\n",
    "    calib_preds = [calib_preds[key] for key in calib_preds.files]\n",
    "else:\n",
    "    model.eval()\n",
    "    trainer = pl.Trainer(accelerator=\"gpu\")\n",
    "    calib_preds = trainer.predict(model, dataloaders=datamodule.calib_dataloader())\n",
    "    calib_preds = convert_multitask_preds(calib_preds)\n",
    "    np.savez(\"./models/mdc-high-model-calibpreds\", *calib_preds)\n",
    "\n",
    "true_labels = np.stack([labels for _, labels in datamodule.datasets[\"calib\"]], axis=1)"
   ]
  },
  {
   "cell_type": "code",
   "execution_count": 5,
   "id": "d579cee5",
   "metadata": {},
   "outputs": [],
   "source": [
    "q_hats = calibration(\n",
    "    calib_preds,\n",
    "    true_labels,\n",
    "    high_level=isinstance(model, HighLevelModel),\n",
    ")"
   ]
  },
  {
   "cell_type": "code",
   "execution_count": 6,
   "id": "2ac093e9",
   "metadata": {},
   "outputs": [],
   "source": [
    "def convert_numpy_to_native(obj):\n",
    "    if isinstance(obj, np.ndarray):\n",
    "        return obj.tolist()\n",
    "    elif isinstance(obj, (np.integer, np.floating)):\n",
    "        return obj.item()\n",
    "    elif isinstance(obj, dict):\n",
    "        return {k: convert_numpy_to_native(v) for k, v in obj.items()}\n",
    "    elif isinstance(obj, list):\n",
    "        return [convert_numpy_to_native(x) for x in obj]\n",
    "    else:\n",
    "        return obj\n",
    "\n",
    "\n",
    "with open(f\"models/mdc-high-level-calibration.json\", \"w\") as f:\n",
    "    json.dump(convert_numpy_to_native(q_hats), f, indent=2)"
   ]
  }
 ],
 "metadata": {
  "kernelspec": {
   "display_name": "venv",
   "language": "python",
   "name": "python3"
  },
  "language_info": {
   "codemirror_mode": {
    "name": "ipython",
    "version": 3
   },
   "file_extension": ".py",
   "mimetype": "text/x-python",
   "name": "python",
   "nbconvert_exporter": "python",
   "pygments_lexer": "ipython3",
   "version": "3.12.3"
  }
 },
 "nbformat": 4,
 "nbformat_minor": 5
}
