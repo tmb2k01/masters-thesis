{
 "cells": [
  {
   "cell_type": "code",
   "execution_count": null,
   "id": "835dd8c2",
   "metadata": {},
   "outputs": [],
   "source": [
    "from src.models.high_level_model import HighLevelModel\n",
    "from src.data.high_level_dm import HighLevelDataModule\n",
    "\n",
    "import torch\n",
    "import numpy as np"
   ]
  },
  {
   "cell_type": "code",
   "execution_count": null,
   "id": "7c75f721",
   "metadata": {},
   "outputs": [],
   "source": [
    "MODEL_HL = HighLevelModel.load_from_checkpoint(\n",
    "    \"models/high-level-model.ckpt\",\n",
    "    map_location=\"cpu\",\n",
    ")\n",
    "MODEL_HL = MODEL_HL.eval()"
   ]
  },
  {
   "cell_type": "code",
   "execution_count": null,
   "id": "c2a76ef3",
   "metadata": {},
   "outputs": [],
   "source": [
    "data = HighLevelDataModule(\n",
    "    root_dir=\"data/\",\n",
    "    batch_size=1,\n",
    "    num_workers=0,\n",
    ")\n",
    "data.setup()"
   ]
  },
  {
   "cell_type": "code",
   "execution_count": null,
   "id": "0b1d0302",
   "metadata": {},
   "outputs": [],
   "source": [
    "for batch in data.val_dataloader():\n",
    "    # Get the inputs\n",
    "    x, (y1, y2) = batch[0], batch[1]\n",
    "\n",
    "    # Forward pass\n",
    "    with torch.no_grad():\n",
    "        y_pred = MODEL_HL(x)\n",
    "\n",
    "    # Print the results\n",
    "    print(f\"Predicted color: {np.argmax(y_pred[0])}\")\n",
    "    print(f\"Ground Truth color: {y1}\")\n",
    "    print(f\"Predicted type: {np.argmax(y_pred[1])}\")\n",
    "    print(f\"Ground Truth type: {y2}\")\n",
    "    print()"
   ]
  }
 ],
 "metadata": {
  "kernelspec": {
   "display_name": "Python 3",
   "language": "python",
   "name": "python3"
  },
  "language_info": {
   "codemirror_mode": {
    "name": "ipython",
    "version": 3
   },
   "file_extension": ".py",
   "mimetype": "text/x-python",
   "name": "python",
   "nbconvert_exporter": "python",
   "pygments_lexer": "ipython3",
   "version": "3.10.12"
  }
 },
 "nbformat": 4,
 "nbformat_minor": 5
}
