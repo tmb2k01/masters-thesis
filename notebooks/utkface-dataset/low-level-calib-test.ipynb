{
 "cells": [
  {
   "cell_type": "code",
   "execution_count": 1,
   "id": "6ccb8938",
   "metadata": {},
   "outputs": [],
   "source": [
    "import json\n",
    "import numpy as np\n",
    "import torch\n",
    "from tqdm import tqdm\n",
    "\n",
    "from src.models.low_level_model import LowLevelModel\n",
    "from src.data.multi_output_dataset import MultiOutputDataModule\n",
    "from src.calibration.nonconformity_functions import NONCONFORMITY_FN_DIC\n",
    "from src.calibration.calibration import CALIBRATION_FN_LOW_DIC\n",
    "from src.models.conformal_prediction import standard_prediction, clustered_prediction\n",
    "from src.metrics import compute_efficiency, compute_informativeness"
   ]
  },
  {
   "cell_type": "code",
   "execution_count": 2,
   "id": "df50e660",
   "metadata": {},
   "outputs": [],
   "source": [
    "UTKFACE_CLASSES = [2, 5]\n",
    "\n",
    "device = torch.device(\"cuda\" if torch.cuda.is_available() else \"cpu\")"
   ]
  },
  {
   "cell_type": "code",
   "execution_count": 3,
   "id": "eb8cc102",
   "metadata": {},
   "outputs": [],
   "source": [
    "model = LowLevelModel.load_from_checkpoint(\n",
    "    \"models/utkface-low-level-model.ckpt\",\n",
    "    task_num_classes=UTKFACE_CLASSES,\n",
    "    map_location=device,\n",
    ")\n",
    "model = model.eval()\n",
    "\n",
    "data = MultiOutputDataModule(\n",
    "    root_dir=\"data/UTKFace\", batch_size=64, num_workers=0, task_num_classes=UTKFACE_CLASSES\n",
    ")\n",
    "data.setup()"
   ]
  },
  {
   "cell_type": "code",
   "execution_count": 4,
   "id": "a72d00e3",
   "metadata": {},
   "outputs": [],
   "source": [
    "with open(\"models/utkface-low-level-calibration.json\", \"r\") as file:\n",
    "    calibration_data = json.load(file)"
   ]
  },
  {
   "cell_type": "code",
   "execution_count": 5,
   "id": "0a7afd3c",
   "metadata": {},
   "outputs": [],
   "source": [
    "def generate_predictions(model: LowLevelModel, dataloader: MultiOutputDataModule):\n",
    "    y_preds = []\n",
    "    y_trues = []\n",
    "\n",
    "    for batch in tqdm(dataloader):\n",
    "        x, y = batch[0].to(device), batch[1].to(device)\n",
    "        with torch.no_grad():\n",
    "            pred = model.predict_step((x, y), 0)  # (B, C)\n",
    "\n",
    "        y_preds.append(pred.cpu().numpy())\n",
    "        y_trues.append(model.encode_targets(y).cpu().numpy())\n",
    "\n",
    "    y_preds = np.concatenate(y_preds, axis=0)\n",
    "    y_trues = np.concatenate(y_trues, axis=0)\n",
    "    return y_preds, y_trues"
   ]
  },
  {
   "cell_type": "code",
   "execution_count": 6,
   "id": "02ce3c87",
   "metadata": {},
   "outputs": [],
   "source": [
    "def test_calibration_from_preds(\n",
    "    y_preds: np.ndarray,\n",
    "    y_trues: np.ndarray,\n",
    "    nonconformity_fn: str,\n",
    "    calibration_type: str,\n",
    "    calibration_data: dict,\n",
    "):\n",
    "    \"\"\"\n",
    "    Evaluate conformal calibration using precomputed predictions for multi-task classification.\n",
    "\n",
    "    This function computes nonconformity scores, applies the specified conformal calibration\n",
    "    method, and evaluates prediction sets based on coverage, efficiency, and informativeness.\n",
    "\n",
    "    Args:\n",
    "        y_preds (list): List of B samples, each is a list of T tensors/logits of shape (C_t,).\n",
    "        y_trues (list): List of B samples, each is a list of T true labels (ints).\n",
    "        nonconformity_fn (str): Name of the nonconformity function to use (e.g., 'hinge', 'margin').\n",
    "        calibration_type (str): Type of calibration to apply ('scp_task_thresholds', 'ccp_cluster_thresholds', etc.).\n",
    "        calibration_data (dict): Dictionary containing thresholds or cluster mappings for each method.\n",
    "\n",
    "    Returns:\n",
    "        None: Prints taskwise and overall coverage, efficiency, and informativeness statistics.\n",
    "    \"\"\"\n",
    "\n",
    "    B = len(y_preds)\n",
    "    nonconformity_scores = NONCONFORMITY_FN_DIC[nonconformity_fn](y_preds)\n",
    "\n",
    "    clustered = \"cluster\" in calibration_type\n",
    "    prediction = (\n",
    "        clustered_prediction(\n",
    "            nonconformity_scores,\n",
    "            calibration_data[nonconformity_fn][calibration_type],\n",
    "        )\n",
    "        if clustered\n",
    "        else standard_prediction(\n",
    "            nonconformity_scores,\n",
    "            calibration_data[nonconformity_fn][calibration_type],\n",
    "        )\n",
    "    )\n",
    "\n",
    "    in_it = 0\n",
    "    for i in range(B):\n",
    "        if y_trues[i] in prediction[i]:\n",
    "            in_it += 1\n",
    "\n",
    "    efficiency = compute_efficiency(prediction)\n",
    "    informativeness = compute_informativeness(prediction)\n",
    "\n",
    "    # Reporting\n",
    "    print(f\"Accuracy: {in_it} / {B} = {in_it / B:.2%}\")\n",
    "    print(f\"Efficiency: {efficiency:.4f}\")\n",
    "    print(f\"Informativeness: {informativeness:.4f}\")"
   ]
  },
  {
   "cell_type": "code",
   "execution_count": 7,
   "id": "feea1630",
   "metadata": {},
   "outputs": [
    {
     "name": "stderr",
     "output_type": "stream",
     "text": [
      "100%|██████████| 57/57 [00:25<00:00,  2.20it/s]\n"
     ]
    }
   ],
   "source": [
    "y_preds, y_trues = generate_predictions(model, data.test_dataloader())"
   ]
  },
  {
   "cell_type": "code",
   "execution_count": 8,
   "id": "38a370be",
   "metadata": {},
   "outputs": [
    {
     "name": "stdout",
     "output_type": "stream",
     "text": [
      "-------------------------------------------------\n",
      "Nonconformity function: hinge\n",
      "-------------------------------------------------\n",
      "Calibration type: scp_global_threshold\n",
      "Accuracy: 3493 / 3616 = 96.60%\n",
      "Efficiency: 4.0799\n",
      "Informativeness: 0.1084\n",
      "-------------------------------------------------\n",
      "Calibration type: ccp_class_thresholds\n",
      "Accuracy: 3489 / 3616 = 96.49%\n",
      "Efficiency: 4.5412\n",
      "Informativeness: 0.0686\n",
      "-------------------------------------------------\n",
      "Calibration type: ccp_global_clusters\n",
      "Accuracy: 3480 / 3616 = 96.24%\n",
      "Efficiency: 4.5075\n",
      "Informativeness: 0.0597\n",
      "-------------------------------------------------\n",
      "Nonconformity function: margin\n",
      "-------------------------------------------------\n",
      "Calibration type: scp_global_threshold\n",
      "Accuracy: 3519 / 3616 = 97.32%\n",
      "Efficiency: 6.7826\n",
      "Informativeness: 0.2741\n",
      "-------------------------------------------------\n",
      "Calibration type: ccp_class_thresholds\n",
      "Accuracy: 3500 / 3616 = 96.79%\n",
      "Efficiency: 6.8891\n",
      "Informativeness: 0.1280\n",
      "-------------------------------------------------\n",
      "Calibration type: ccp_global_clusters\n",
      "Accuracy: 3505 / 3616 = 96.93%\n",
      "Efficiency: 6.8581\n",
      "Informativeness: 0.1515\n",
      "-------------------------------------------------\n",
      "Nonconformity function: pip\n",
      "-------------------------------------------------\n",
      "Calibration type: scp_global_threshold\n",
      "Accuracy: 3526 / 3616 = 97.51%\n",
      "Efficiency: 6.5191\n",
      "Informativeness: 0.2403\n",
      "-------------------------------------------------\n",
      "Calibration type: ccp_class_thresholds\n",
      "Accuracy: 3505 / 3616 = 96.93%\n",
      "Efficiency: 6.5788\n",
      "Informativeness: 0.1424\n",
      "-------------------------------------------------\n",
      "Calibration type: ccp_global_clusters\n",
      "Accuracy: 3513 / 3616 = 97.15%\n",
      "Efficiency: 6.5686\n",
      "Informativeness: 0.1598\n"
     ]
    }
   ],
   "source": [
    "for nonconformity_fn in NONCONFORMITY_FN_DIC.keys():\n",
    "    print(\"-------------------------------------------------\")\n",
    "    print(f\"Nonconformity function: {nonconformity_fn}\")\n",
    "    for calibration_type in CALIBRATION_FN_LOW_DIC.keys():\n",
    "        print(\"-------------------------------------------------\")\n",
    "        print(f\"Calibration type: {calibration_type}\")\n",
    "        test_calibration_from_preds(\n",
    "            y_preds,\n",
    "            y_trues,\n",
    "            nonconformity_fn,\n",
    "            calibration_type,\n",
    "            calibration_data\n",
    "        )"
   ]
  }
 ],
 "metadata": {
  "kernelspec": {
   "display_name": ".venv",
   "language": "python",
   "name": "python3"
  },
  "language_info": {
   "codemirror_mode": {
    "name": "ipython",
    "version": 3
   },
   "file_extension": ".py",
   "mimetype": "text/x-python",
   "name": "python",
   "nbconvert_exporter": "python",
   "pygments_lexer": "ipython3",
   "version": "3.12.3"
  }
 },
 "nbformat": 4,
 "nbformat_minor": 5
}
