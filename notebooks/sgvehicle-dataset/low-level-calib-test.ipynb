{
 "cells": [
  {
   "cell_type": "code",
   "execution_count": 1,
   "id": "6ccb8938",
   "metadata": {},
   "outputs": [],
   "source": [
    "import json\n",
    "import numpy as np\n",
    "import torch\n",
    "from tqdm import tqdm\n",
    "\n",
    "from src.models.low_level_model import LowLevelModel\n",
    "from src.data.multi_output_dataset import MultiOutputDataModule\n",
    "from src.calibration.nonconformity_functions import NONCONFORMITY_FN_DIC\n",
    "from src.calibration.calibration import CALIBRATION_FN_LOW_DIC\n",
    "from src.models.conformal_prediction import standard_prediction, clustered_prediction\n",
    "from src.metrics import compute_efficiency, compute_informativeness"
   ]
  },
  {
   "cell_type": "code",
   "execution_count": 2,
   "id": "df50e660",
   "metadata": {},
   "outputs": [],
   "source": [
    "MDC_CLASSES = [12, 11]\n",
    "\n",
    "device = torch.device(\"cuda\" if torch.cuda.is_available() else \"cpu\")"
   ]
  },
  {
   "cell_type": "code",
   "execution_count": 3,
   "id": "eb8cc102",
   "metadata": {},
   "outputs": [
    {
     "name": "stderr",
     "output_type": "stream",
     "text": [
      "Lightning automatically upgraded your loaded checkpoint from v1.9.5 to v2.5.1. To apply the upgrade to your files permanently, run `python -m pytorch_lightning.utilities.upgrade_checkpoint models/mdc-low-level-model.ckpt`\n"
     ]
    }
   ],
   "source": [
    "model = LowLevelModel.load_from_checkpoint(\n",
    "    \"models/mdc-low-level-model.ckpt\",\n",
    "    task_num_classes=MDC_CLASSES,\n",
    "    map_location=device,\n",
    ")\n",
    "model = model.eval()\n",
    "\n",
    "data = MultiOutputDataModule(\n",
    "    root_dir=\"data/\", batch_size=64, num_workers=0, task_num_classes=MDC_CLASSES\n",
    ")\n",
    "data.setup()"
   ]
  },
  {
   "cell_type": "code",
   "execution_count": 4,
   "id": "a72d00e3",
   "metadata": {},
   "outputs": [],
   "source": [
    "with open(\"models/mdc-low-level-calibration.json\", \"r\") as file:\n",
    "    calibration_data = json.load(file)"
   ]
  },
  {
   "cell_type": "code",
   "execution_count": 5,
   "id": "0a7afd3c",
   "metadata": {},
   "outputs": [],
   "source": [
    "def generate_predictions(model: LowLevelModel, dataloader: MultiOutputDataModule):\n",
    "    y_preds = []\n",
    "    y_trues = []\n",
    "\n",
    "    for batch in tqdm(dataloader):\n",
    "        x, y = batch[0].to(device), batch[1].to(device)\n",
    "        with torch.no_grad():\n",
    "            pred = model.predict_step(x)  # (B, C)\n",
    "\n",
    "        y_preds.append(pred.cpu().numpy())\n",
    "        y_trues.append(model.encode_targets(y).cpu().numpy()) \n",
    "\n",
    "    y_preds = np.concatenate(y_preds, axis=0)\n",
    "    y_trues = np.concatenate(y_trues, axis=0)\n",
    "    return y_preds, y_trues"
   ]
  },
  {
   "cell_type": "code",
   "execution_count": 6,
   "id": "02ce3c87",
   "metadata": {},
   "outputs": [],
   "source": [
    "def test_calibration_from_preds(\n",
    "    y_preds: np.ndarray,\n",
    "    y_trues: np.ndarray,\n",
    "    nonconformity_fn: str,\n",
    "    calibration_type: str,\n",
    "    calibration_data: dict,\n",
    "):\n",
    "    \"\"\"\n",
    "    Evaluate conformal calibration using precomputed predictions for multi-task classification.\n",
    "\n",
    "    This function computes nonconformity scores, applies the specified conformal calibration\n",
    "    method, and evaluates prediction sets based on coverage, efficiency, and informativeness.\n",
    "\n",
    "    Args:\n",
    "        y_preds (list): List of B samples, each is a list of T tensors/logits of shape (C_t,).\n",
    "        y_trues (list): List of B samples, each is a list of T true labels (ints).\n",
    "        nonconformity_fn (str): Name of the nonconformity function to use (e.g., 'hinge', 'margin').\n",
    "        calibration_type (str): Type of calibration to apply ('scp_task_thresholds', 'ccp_cluster_thresholds', etc.).\n",
    "        calibration_data (dict): Dictionary containing thresholds or cluster mappings for each method.\n",
    "\n",
    "    Returns:\n",
    "        None: Prints taskwise and overall coverage, efficiency, and informativeness statistics.\n",
    "    \"\"\"\n",
    "\n",
    "    B = len(y_preds)\n",
    "    nonconformity_scores = NONCONFORMITY_FN_DIC[nonconformity_fn](y_preds)\n",
    "\n",
    "    clustered = \"cluster\" in calibration_type\n",
    "    prediction = (\n",
    "        clustered_prediction(\n",
    "            nonconformity_scores,\n",
    "            calibration_data[nonconformity_fn][calibration_type],\n",
    "        )\n",
    "        if clustered\n",
    "        else standard_prediction(\n",
    "            nonconformity_scores,\n",
    "            calibration_data[nonconformity_fn][calibration_type],\n",
    "        )\n",
    "    )\n",
    "\n",
    "    in_it = 0\n",
    "    for i in range(B):\n",
    "        if y_trues[i] in prediction[i]:\n",
    "            in_it += 1\n",
    "\n",
    "    efficiency = compute_efficiency(prediction)\n",
    "    informativeness = compute_informativeness(prediction)\n",
    "\n",
    "    # Reporting\n",
    "    print(f\"Accuracy: {in_it} / {B} = {in_it / B:.2%}\")\n",
    "    print(f\"Efficiency: {efficiency:.4f}\")\n",
    "    print(f\"Informativeness: {informativeness:.4f}\")"
   ]
  },
  {
   "cell_type": "code",
   "execution_count": 7,
   "id": "feea1630",
   "metadata": {},
   "outputs": [
    {
     "name": "stderr",
     "output_type": "stream",
     "text": [
      "100%|██████████| 76/76 [01:42<00:00,  1.35s/it]\n"
     ]
    }
   ],
   "source": [
    "y_preds, y_trues = generate_predictions(model, data.test_dataloader())"
   ]
  },
  {
   "cell_type": "code",
   "execution_count": 8,
   "id": "38a370be",
   "metadata": {},
   "outputs": [
    {
     "name": "stdout",
     "output_type": "stream",
     "text": [
      "-------------------------------------------------\n",
      "Nonconformity function: hinge\n",
      "-------------------------------------------------\n",
      "Calibration type: scp_global_threshold\n",
      "Accuracy: 4579 / 4812 = 95.16%\n",
      "Efficiency: 2.4219\n",
      "Informativeness: 0.2569\n",
      "-------------------------------------------------\n",
      "Calibration type: ccp_class_thresholds\n",
      "Accuracy: 4639 / 4812 = 96.40%\n",
      "Efficiency: 58.0241\n",
      "Informativeness: 0.0000\n",
      "-------------------------------------------------\n",
      "Calibration type: ccp_global_clusters\n",
      "Accuracy: 4568 / 4812 = 94.93%\n",
      "Efficiency: 2.5998\n",
      "Informativeness: 0.2851\n",
      "-------------------------------------------------\n",
      "Nonconformity function: margin\n",
      "-------------------------------------------------\n",
      "Calibration type: scp_global_threshold\n",
      "Accuracy: 4599 / 4812 = 95.57%\n",
      "Efficiency: 38.2747\n",
      "Informativeness: 0.5006\n",
      "-------------------------------------------------\n",
      "Calibration type: ccp_class_thresholds\n",
      "Accuracy: 4636 / 4812 = 96.34%\n",
      "Efficiency: 82.9742\n",
      "Informativeness: 0.0000\n",
      "-------------------------------------------------\n",
      "Calibration type: ccp_global_clusters\n",
      "Accuracy: 4567 / 4812 = 94.91%\n",
      "Efficiency: 34.7458\n",
      "Informativeness: 0.4909\n",
      "-------------------------------------------------\n",
      "Nonconformity function: pip\n",
      "-------------------------------------------------\n",
      "Calibration type: scp_global_threshold\n",
      "Accuracy: 4598 / 4812 = 95.55%\n",
      "Efficiency: 25.7720\n",
      "Informativeness: 0.4570\n",
      "-------------------------------------------------\n",
      "Calibration type: ccp_class_thresholds\n",
      "Accuracy: 4637 / 4812 = 96.36%\n",
      "Efficiency: 77.4873\n",
      "Informativeness: 0.0000\n",
      "-------------------------------------------------\n",
      "Calibration type: ccp_global_clusters\n",
      "Accuracy: 4562 / 4812 = 94.80%\n",
      "Efficiency: 26.5943\n",
      "Informativeness: 0.3574\n"
     ]
    }
   ],
   "source": [
    "for nonconformity_fn in NONCONFORMITY_FN_DIC.keys():\n",
    "    print(\"-------------------------------------------------\")\n",
    "    print(f\"Nonconformity function: {nonconformity_fn}\")\n",
    "    for calibration_type in CALIBRATION_FN_LOW_DIC.keys():\n",
    "        print(\"-------------------------------------------------\")\n",
    "        print(f\"Calibration type: {calibration_type}\")\n",
    "        test_calibration_from_preds(\n",
    "            y_preds,\n",
    "            y_trues,\n",
    "            nonconformity_fn,\n",
    "            calibration_type,\n",
    "            calibration_data\n",
    "        )"
   ]
  }
 ],
 "metadata": {
  "kernelspec": {
   "display_name": "venv",
   "language": "python",
   "name": "python3"
  },
  "language_info": {
   "codemirror_mode": {
    "name": "ipython",
    "version": 3
   },
   "file_extension": ".py",
   "mimetype": "text/x-python",
   "name": "python",
   "nbconvert_exporter": "python",
   "pygments_lexer": "ipython3",
   "version": "3.12.3"
  }
 },
 "nbformat": 4,
 "nbformat_minor": 5
}
